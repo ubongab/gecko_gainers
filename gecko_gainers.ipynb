{
  "nbformat": 4,
  "nbformat_minor": 0,
  "metadata": {
    "colab": {
      "name": "gecko_gainers.ipynb",
      "provenance": [],
      "collapsed_sections": [],
      "authorship_tag": "ABX9TyOJaS6EDp3rMbQ6MfwFn16E",
      "include_colab_link": true
    },
    "kernelspec": {
      "name": "python3",
      "display_name": "Python 3"
    },
    "language_info": {
      "name": "python"
    }
  },
  "cells": [
    {
      "cell_type": "markdown",
      "metadata": {
        "id": "view-in-github",
        "colab_type": "text"
      },
      "source": [
        "<a href=\"https://colab.research.google.com/github/ubongab/gecko_gainers/blob/main/gecko_gainers.ipynb\" target=\"_parent\"><img src=\"https://colab.research.google.com/assets/colab-badge.svg\" alt=\"Open In Colab\"/></a>"
      ]
    },
    {
      "cell_type": "code",
      "execution_count": 14,
      "metadata": {
        "id": "EZtdVjYkVeOM",
        "colab": {
          "base_uri": "https://localhost:8080/"
        },
        "outputId": "82a5c223-91d7-4e69-c1b3-0de19b8047c2"
      },
      "outputs": [
        {
          "output_type": "stream",
          "name": "stdout",
          "text": [
            "Requirement already satisfied: fake_headers in /usr/local/lib/python3.7/dist-packages (1.0.2)\n",
            "Requirement already satisfied: html5lib in /usr/local/lib/python3.7/dist-packages (from fake_headers) (1.0.1)\n",
            "Requirement already satisfied: bs4 in /usr/local/lib/python3.7/dist-packages (from fake_headers) (0.0.1)\n",
            "Requirement already satisfied: beautifulsoup4 in /usr/local/lib/python3.7/dist-packages (from bs4->fake_headers) (4.6.3)\n",
            "Requirement already satisfied: webencodings in /usr/local/lib/python3.7/dist-packages (from html5lib->fake_headers) (0.5.1)\n",
            "Requirement already satisfied: six>=1.9 in /usr/local/lib/python3.7/dist-packages (from html5lib->fake_headers) (1.15.0)\n"
          ]
        }
      ],
      "source": [
        "import requests\n",
        "from bs4 import BeautifulSoup\n",
        "!pip install fake_headers\n",
        "from fake_headers import Headers"
      ]
    },
    {
      "cell_type": "code",
      "source": [
        "h = Headers()\n",
        "HEADER = h.generate()\n",
        "print(HEADER)\n"
      ],
      "metadata": {
        "colab": {
          "base_uri": "https://localhost:8080/"
        },
        "id": "U0vJbrkwVkzW",
        "outputId": "e09e8e18-7b27-41bd-ed6f-1b1042e40bce"
      },
      "execution_count": 2,
      "outputs": [
        {
          "output_type": "stream",
          "name": "stdout",
          "text": [
            "{'Accept': '*/*', 'Connection': 'keep-alive', 'User-Agent': 'Mozilla/5.0 (X11; Linux i686 on x86_64; rv:57.0.4) Gecko/20100101 Firefox/57.0.4'}\n"
          ]
        }
      ]
    },
    {
      "cell_type": "code",
      "source": [
        "def get_page(url):\n",
        "  r = requests.get(url, headers=HEADER)\n",
        "  if r.status_code == 200:\n",
        "    soup = BeautifulSoup(r.text, 'html.parser')\n",
        "    return soup\n",
        "  return r.status_code"
      ],
      "metadata": {
        "id": "pGhOR1OlVl4r"
      },
      "execution_count": 3,
      "outputs": []
    },
    {
      "cell_type": "code",
      "source": [
        "soup = get_page('https://coinmarketcap.com/gainers-losers/')\n",
        "soup.title"
      ],
      "metadata": {
        "colab": {
          "base_uri": "https://localhost:8080/"
        },
        "id": "ga6vsB6yr3Sd",
        "outputId": "1633e9a7-f94f-4aec-f157-6dbd374e752f"
      },
      "execution_count": 4,
      "outputs": [
        {
          "output_type": "execute_result",
          "data": {
            "text/plain": [
              "<title>See The Top Crypto Gainers And Losers Today [Updated] | CoinMarketCap</title>"
            ]
          },
          "metadata": {},
          "execution_count": 4
        }
      ]
    },
    {
      "cell_type": "code",
      "source": [
        "gainers = []\n",
        "body = soup.select('tbody')[0].select('td')\n",
        "for i,val in enumerate(body):\n",
        "  if i%5 == 0:\n",
        "    name_symbol = body[i+1].getText()\n",
        "    pct_change = body[i+3].getText()\n",
        "    print(f'{name_symbol} || {pct_change}')\n"
      ],
      "metadata": {
        "colab": {
          "base_uri": "https://localhost:8080/"
        },
        "id": "uIhOyOBSr7eX",
        "outputId": "e0dab7df-09b8-4096-8a43-41645b86da76"
      },
      "execution_count": 13,
      "outputs": [
        {
          "output_type": "stream",
          "name": "stdout",
          "text": [
            "Bored Floki Yacht Club2974BFYC || 1105.05%\n",
            "MetaDogecolony3558DOGECO || 838.52%\n",
            "tudaBirds3150BURD || 298.88%\n",
            "X2946X || 239.67%\n",
            "BHPCoin756BHP || 232.39%\n",
            "Quarashi3626QUA || 133.18%\n",
            "HunnyDAO2997LOVE || 102.51%\n",
            "Chainbing213CBG || 96.99%\n",
            "VCGamers2923VCG || 95.16%\n",
            "Baby Lovely Inu3919BLOVELY || 93.99%\n",
            "ESWAP.TUBE4221TUBE2 || 79.80%\n",
            "Rogue Doge4079ROGE || 72.34%\n",
            "Phoenix Global [old]4076PHB || 69.30%\n",
            "FADO Go2850FADO || 61.83%\n",
            "Life DAO4572LF || 61.76%\n",
            "Blockcloud3591BLOC || 58.95%\n",
            "Iron Bank2852IB || 55.09%\n",
            "Fyooz2412FYZ || 51.98%\n",
            "Yield Protocol1912YIELD || 51.71%\n",
            "Fringe Finance3379FRIN || 48.67%\n",
            "More Token3417MORE || 48.45%\n",
            "SCARY4414SCY || 48.08%\n",
            "CheersLand4666CHEERS || 46.29%\n",
            "LovePot Token3781LOVE || 45.62%\n",
            "FarmPoly4740POLY || 45.57%\n",
            "AssangeDAO2857JUSTICE || 45.52%\n",
            "WTF Token3474WTF || 44.29%\n",
            "Belon DAO3272BE || 43.80%\n",
            "Rogan Coin4680ROGAN || 41.17%\n",
            "PowerTrade Fuel1372PTF || 40.65%\n"
          ]
        }
      ]
    }
  ]
}