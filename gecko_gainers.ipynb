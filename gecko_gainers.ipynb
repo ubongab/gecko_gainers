{
  "nbformat": 4,
  "nbformat_minor": 0,
  "metadata": {
    "colab": {
      "name": "gecko_gainers.ipynb",
      "provenance": [],
      "collapsed_sections": [],
      "authorship_tag": "ABX9TyNaQBSSMGb8aSlmif7mX7xu",
      "include_colab_link": true
    },
    "kernelspec": {
      "name": "python3",
      "display_name": "Python 3"
    },
    "language_info": {
      "name": "python"
    }
  },
  "cells": [
    {
      "cell_type": "markdown",
      "metadata": {
        "id": "view-in-github",
        "colab_type": "text"
      },
      "source": [
        "<a href=\"https://colab.research.google.com/github/ubongab/gecko_gainers/blob/main/gecko_gainers.ipynb\" target=\"_parent\"><img src=\"https://colab.research.google.com/assets/colab-badge.svg\" alt=\"Open In Colab\"/></a>"
      ]
    },
    {
      "cell_type": "code",
      "execution_count": 16,
      "metadata": {
        "id": "EZtdVjYkVeOM",
        "colab": {
          "base_uri": "https://localhost:8080/"
        },
        "outputId": "176868e2-c5fe-4ad1-cb95-4d1b669677ce"
      },
      "outputs": [
        {
          "output_type": "stream",
          "name": "stdout",
          "text": [
            "Requirement already satisfied: fake_headers in /usr/local/lib/python3.7/dist-packages (1.0.2)\n",
            "Requirement already satisfied: bs4 in /usr/local/lib/python3.7/dist-packages (from fake_headers) (0.0.1)\n",
            "Requirement already satisfied: html5lib in /usr/local/lib/python3.7/dist-packages (from fake_headers) (1.0.1)\n",
            "Requirement already satisfied: beautifulsoup4 in /usr/local/lib/python3.7/dist-packages (from bs4->fake_headers) (4.6.3)\n",
            "Requirement already satisfied: webencodings in /usr/local/lib/python3.7/dist-packages (from html5lib->fake_headers) (0.5.1)\n",
            "Requirement already satisfied: six>=1.9 in /usr/local/lib/python3.7/dist-packages (from html5lib->fake_headers) (1.15.0)\n"
          ]
        }
      ],
      "source": [
        "import requests\n",
        "from bs4 import BeautifulSoup\n",
        "!pip install fake_headers\n",
        "from fake_headers import Headers\n",
        "from prettytable import PrettyTable"
      ]
    },
    {
      "cell_type": "code",
      "source": [
        "h = Headers()\n",
        "HEADER = h.generate()\n",
        "print(HEADER)\n"
      ],
      "metadata": {
        "colab": {
          "base_uri": "https://localhost:8080/"
        },
        "id": "U0vJbrkwVkzW",
        "outputId": "e09e8e18-7b27-41bd-ed6f-1b1042e40bce"
      },
      "execution_count": 2,
      "outputs": [
        {
          "output_type": "stream",
          "name": "stdout",
          "text": [
            "{'Accept': '*/*', 'Connection': 'keep-alive', 'User-Agent': 'Mozilla/5.0 (X11; Linux i686 on x86_64; rv:57.0.4) Gecko/20100101 Firefox/57.0.4'}\n"
          ]
        }
      ]
    },
    {
      "cell_type": "code",
      "source": [
        "def get_page(url):\n",
        "  r = requests.get(url, headers=HEADER)\n",
        "  if r.status_code == 200:\n",
        "    soup = BeautifulSoup(r.text, 'html.parser')\n",
        "    return soup\n",
        "  return r.status_code"
      ],
      "metadata": {
        "id": "pGhOR1OlVl4r"
      },
      "execution_count": 3,
      "outputs": []
    },
    {
      "cell_type": "code",
      "source": [
        "soup = get_page('https://coinmarketcap.com/gainers-losers/')\n",
        "soup.title"
      ],
      "metadata": {
        "colab": {
          "base_uri": "https://localhost:8080/"
        },
        "id": "ga6vsB6yr3Sd",
        "outputId": "1633e9a7-f94f-4aec-f157-6dbd374e752f"
      },
      "execution_count": 4,
      "outputs": [
        {
          "output_type": "execute_result",
          "data": {
            "text/plain": [
              "<title>See The Top Crypto Gainers And Losers Today [Updated] | CoinMarketCap</title>"
            ]
          },
          "metadata": {},
          "execution_count": 4
        }
      ]
    },
    {
      "cell_type": "code",
      "source": [
        "gainers = []\n",
        "body = soup.select('tbody')[0].select('td')\n",
        "for i,val in enumerate(body):\n",
        "  if i%5 == 0:\n",
        "    rank = body[i].getText()\n",
        "    name_symbol = body[i+1].getText()\n",
        "    price = body[i+2].getText()\n",
        "    pct_change = body[i+3].getText()\n",
        "    volume = body[i+4].getText()\n",
        "    gainers.append({'rank':rank, 'name_symbol':name_symbol, 'price':price, 'pct_change':pct_change, 'volume':volume})\n",
        "    print(f'{name_symbol} || {pct_change}')\n"
      ],
      "metadata": {
        "colab": {
          "base_uri": "https://localhost:8080/"
        },
        "id": "uIhOyOBSr7eX",
        "outputId": "2cea7c4c-49e6-40fb-8893-630eed83625b"
      },
      "execution_count": 17,
      "outputs": [
        {
          "output_type": "stream",
          "name": "stdout",
          "text": [
            "Bored Floki Yacht Club2974BFYC || 1105.05%\n",
            "MetaDogecolony3558DOGECO || 838.52%\n",
            "tudaBirds3150BURD || 298.88%\n",
            "X2946X || 239.67%\n",
            "BHPCoin756BHP || 232.39%\n",
            "Quarashi3626QUA || 133.18%\n",
            "HunnyDAO2997LOVE || 102.51%\n",
            "Chainbing213CBG || 96.99%\n",
            "VCGamers2923VCG || 95.16%\n",
            "Baby Lovely Inu3919BLOVELY || 93.99%\n",
            "ESWAP.TUBE4221TUBE2 || 79.80%\n",
            "Rogue Doge4079ROGE || 72.34%\n",
            "Phoenix Global [old]4076PHB || 69.30%\n",
            "FADO Go2850FADO || 61.83%\n",
            "Life DAO4572LF || 61.76%\n",
            "Blockcloud3591BLOC || 58.95%\n",
            "Iron Bank2852IB || 55.09%\n",
            "Fyooz2412FYZ || 51.98%\n",
            "Yield Protocol1912YIELD || 51.71%\n",
            "Fringe Finance3379FRIN || 48.67%\n",
            "More Token3417MORE || 48.45%\n",
            "SCARY4414SCY || 48.08%\n",
            "CheersLand4666CHEERS || 46.29%\n",
            "LovePot Token3781LOVE || 45.62%\n",
            "FarmPoly4740POLY || 45.57%\n",
            "AssangeDAO2857JUSTICE || 45.52%\n",
            "WTF Token3474WTF || 44.29%\n",
            "Belon DAO3272BE || 43.80%\n",
            "Rogan Coin4680ROGAN || 41.17%\n",
            "PowerTrade Fuel1372PTF || 40.65%\n"
          ]
        }
      ]
    },
    {
      "cell_type": "code",
      "source": [
        "t = PrettyTable(['rank','name_symbol', 'price','pct_change','volume'])\n",
        "for item in gainers:\n",
        "  t.add_row(item.values())\n",
        "print(t)"
      ],
      "metadata": {
        "colab": {
          "base_uri": "https://localhost:8080/"
        },
        "id": "vrWZVkkxxnSp",
        "outputId": "5e4c5396-d90e-4bfc-d48c-97e198521368"
      },
      "execution_count": 23,
      "outputs": [
        {
          "output_type": "stream",
          "name": "stdout",
          "text": [
            "+------+--------------------------------+-----------------+------------+-------------+\n",
            "| rank |          name_symbol           |      price      | pct_change |    volume   |\n",
            "+------+--------------------------------+-----------------+------------+-------------+\n",
            "| 2974 | Bored Floki Yacht Club2974BFYC |    $0.0000959   |  1105.05%  |  $3,105,508 |\n",
            "| 3558 |    MetaDogecolony3558DOGECO    |   $0.000009015  |  838.52%   |   $332,479  |\n",
            "| 3150 |       tudaBirds3150BURD        |     $0.01307    |  298.88%   |  $1,277,545 |\n",
            "| 2946 |             X2946X             |     $0.02213    |  239.67%   |  $3,871,844 |\n",
            "| 756  |         BHPCoin756BHP          |      $1.10      |  232.39%   | $14,100,240 |\n",
            "| 3626 |        Quarashi3626QUA         |     $0.06808    |  133.18%   |   $300,343  |\n",
            "| 2997 |        HunnyDAO2997LOVE        |     $0.5888     |  102.51%   |  $2,616,636 |\n",
            "| 213  |        Chainbing213CBG         |      $29.28     |   96.99%   |  $5,384,013 |\n",
            "| 2923 |        VCGamers2923VCG         |     $0.1444     |   95.16%   |  $4,544,331 |\n",
            "| 3919 |   Baby Lovely Inu3919BLOVELY   | $0.000000009264 |   93.99%   |   $191,648  |\n",
            "| 4221 |      ESWAP.TUBE4221TUBE2       |      $2.35      |   79.80%   |   $103,273  |\n",
            "| 4079 |       Rogue Doge4079ROGE       |   $0.0...03964  |   72.34%   |   $125,519  |\n",
            "| 4076 |  Phoenix Global [old]4076PHB   |    $0.005456    |   69.30%   |   $128,271  |\n",
            "| 2850 |        FADO Go2850FADO         |     $0.01627    |   61.83%   | $14,829,583 |\n",
            "| 4572 |         Life DAO4572LF         |      $4.45      |   61.76%   |   $59,639   |\n",
            "| 3591 |       Blockcloud3591BLOC       |    $0.0004191   |   58.95%   |   $352,262  |\n",
            "| 2852 |        Iron Bank2852IB         |      $99.49     |   55.09%   | $13,496,893 |\n",
            "| 2412 |          Fyooz2412FYZ          |     $0.01697    |   51.98%   |   $105,759  |\n",
            "| 1912 |    Yield Protocol1912YIELD     |     $0.01912    |   51.71%   |   $882,015  |\n",
            "| 3379 |     Fringe Finance3379FRIN     |     $0.01463    |   48.67%   |   $581,165  |\n",
            "| 3417 |       More Token3417MORE       |     $0.1204     |   48.45%   |   $532,773  |\n",
            "| 4414 |          SCARY4414SCY          |     $0.03375    |   48.08%   |   $81,933   |\n",
            "| 4666 |      CheersLand4666CHEERS      |     $0.07282    |   46.29%   |   $65,581   |\n",
            "| 3781 |     LovePot Token3781LOVE      |    $0.007343    |   45.62%   |   $216,285  |\n",
            "| 4740 |        FarmPoly4740POLY        |     $0.08293    |   45.57%   |   $50,938   |\n",
            "| 2857 |     AssangeDAO2857JUSTICE      |    $0.001592    |   45.52%   | $11,554,145 |\n",
            "| 3474 |        WTF Token3474WTF        |     $0.01561    |   44.29%   |   $450,095  |\n",
            "| 3272 |        Belon DAO3272BE         |    $0.0008318   |   43.80%   |   $842,497  |\n",
            "| 4680 |      Rogan Coin4680ROGAN       |   $0.0...05016  |   41.17%   |   $54,157   |\n",
            "| 1372 |     PowerTrade Fuel1372PTF     |     $0.1502     |   40.65%   |   $255,299  |\n",
            "+------+--------------------------------+-----------------+------------+-------------+\n"
          ]
        }
      ]
    }
  ]
}